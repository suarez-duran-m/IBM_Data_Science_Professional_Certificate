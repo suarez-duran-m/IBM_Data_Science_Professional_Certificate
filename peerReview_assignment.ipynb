{
 "cells": [
  {
   "cell_type": "markdown",
   "metadata": {},
   "source": [
    "<center>\n",
    "    <img src=\"https://cf-courses-data.s3.us.cloud-object-storage.appdomain.cloud/IBMDeveloperSkillsNetwork-DS0105EN-SkillsNetwork/labs/Module2/images/SN_web_lightmode.png\" width=\"300\" alt=\"cognitiveclass.ai logo\">\n",
    "</center>\n"
   ]
  },
  {
   "cell_type": "markdown",
   "metadata": {},
   "source": [
    "# Notebook for Peer-graded Assignment\n",
    "## Tools for Data Science, IBM Data Science Professional Certificate\n",
    "### By Mauricio Suárez-Durán"
   ]
  },
  {
   "cell_type": "markdown",
   "metadata": {},
   "source": [
    "## Introduction\n",
    "This notebook is created to show the skills on Notebooks gained during the course: Tools for Data Science."
   ]
  },
  {
   "cell_type": "markdown",
   "metadata": {},
   "source": [
    "## Data science languages\n",
    "There are two main programming languages for data science:\n",
    "- Python\n",
    "- R"
   ]
  },
  {
   "cell_type": "markdown",
   "metadata": {},
   "source": [
    "## Data science libraries\n",
    "There are some mainly libraries for data science in Python:\n",
    "-  Pandas\n",
    "- Numpy\n",
    "- Matplotlib\n",
    "- Seaborn\n",
    "- Scikit_learn\n",
    "- Keras\n",
    "- TensorFlow\n",
    "- PyTorch\n",
    "\n",
    "\n"
   ]
  },
  {
   "cell_type": "markdown",
   "metadata": {},
   "source": [
    "## Data science tools"
   ]
  },
  {
   "cell_type": "markdown",
   "metadata": {},
   "source": [
    "| Data Management | Data Integration and Transformation | Development Environments  |\n",
    "|:--------------- |:-----------------------------------:| -----:| \n",
    "| MySQL           | Apache Airflow                      | Jupyter                   |\n",
    "| CouchDG         | KubeFlow                            | R-Studio                  |\n",
    "| Cassandra       | Spark SQL                           | Apache Zeppelin           |"
   ]
  },
  {
   "cell_type": "markdown",
   "metadata": {},
   "source": [
    "## Arithmetic expression examples\n",
    "The equation for free fall:\n",
    "\n",
    "$h = \\frac{1}{2}gt^2$"
   ]
  },
  {
   "cell_type": "markdown",
   "metadata": {},
   "source": [
    "## Code cell for code"
   ]
  },
  {
   "cell_type": "code",
   "execution_count": 2,
   "metadata": {},
   "outputs": [
    {
     "name": "stdout",
     "output_type": "stream",
     "text": [
      "a+b =  13\n",
      "a*b =  30\n"
     ]
    }
   ],
   "source": [
    "a = 3\n",
    "b = 10\n",
    "c = a*b\n",
    "print(\"a+b = \", a+b)\n",
    "print(\"a*b = \", c)"
   ]
  },
  {
   "cell_type": "markdown",
   "metadata": {},
   "source": [
    "## Code to convert minutes to hours"
   ]
  },
  {
   "cell_type": "code",
   "execution_count": 4,
   "metadata": {},
   "outputs": [
    {
     "name": "stdout",
     "output_type": "stream",
     "text": [
      "90 is equal to 1.5 hours\n"
     ]
    }
   ],
   "source": [
    "min = 90\n",
    "h = min / 60\n",
    "print(min, \"is equal to\", h, \"hours\")"
   ]
  },
  {
   "cell_type": "markdown",
   "metadata": {},
   "source": [
    "## Cell to list Objectives\n",
    "\n",
    "* Global objectives\n",
    "1. To learn how to write text in a Notebook\n",
    "2. To learn how to write code in a Notebook\n",
    "\n",
    "* Specific objectives\n",
    "\n",
    "1. To create a Markdown cell in a Notebook\n",
    "2. Write a title in a Markdown cell\n",
    "3. To create a code cell in a Notebook\n",
    "4. Write a code to multiply two number in a Code cell\n",
    "\n"
   ]
  },
  {
   "cell_type": "markdown",
   "metadata": {},
   "source": [
    "## Author's Name\n",
    "### Mauricio Suárez-Durán"
   ]
  },
  {
   "cell_type": "code",
   "execution_count": null,
   "metadata": {},
   "outputs": [],
   "source": []
  }
 ],
 "metadata": {
  "kernelspec": {
   "display_name": "Python",
   "language": "python",
   "name": "conda-env-python-py"
  },
  "language_info": {
   "codemirror_mode": {
    "name": "ipython",
    "version": 3
   },
   "file_extension": ".py",
   "mimetype": "text/x-python",
   "name": "python",
   "nbconvert_exporter": "python",
   "pygments_lexer": "ipython3",
   "version": "3.7.12"
  }
 },
 "nbformat": 4,
 "nbformat_minor": 4
}
